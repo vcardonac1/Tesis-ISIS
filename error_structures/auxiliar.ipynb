{
 "cells": [
  {
   "cell_type": "code",
   "execution_count": 36,
   "metadata": {},
   "outputs": [
    {
     "name": "stdout",
     "output_type": "stream",
     "text": [
      "Hay mas elementos de los esperados nodo: 3\n",
      "Failed\n",
      "\n",
      "[1, 2, 4, 5, 6, 8, 0, 3, 3]\n",
      "[1, 2, 4, 5, 6, 8, 0, 3]\n"
     ]
    }
   ],
   "source": [
    "VALIDATION_STATES = {0:'Warning', 1:'Successful', -1:'Failed'}\n",
    "# ---------------------------- ADICIONAR -----------------------------\n",
    "nodo = 3\n",
    "init_test = [1,2,4,5,6,8,0] \n",
    "end_test =  [1,2,4,5,6,8,0,3,3]\n",
    "end_val =   [1,2,4,5,6,8,0,3]\n",
    "\n",
    "\n",
    "\n",
    "if len(end_test) == len(end_val): # Hay la cantidad esperada de elementos\n",
    "    sameOrder = True\n",
    "    for i in range(len(end_test)):\n",
    "        if end_test[i] != end_val[i]:\n",
    "            sameOrder = False\n",
    "            break                       \n",
    "    if sameOrder:\n",
    "        comment = 'El elemento se añadió satisfactoriamente'\n",
    "        state_val = VALIDATION_STATES[1]\n",
    "    else:\n",
    "        test = set(end_test)\n",
    "        val = set(end_val)\n",
    "        if test == val:\n",
    "            comment = 'El elemento se añadió satisfactoriamente, pero no en la posición esperada'\n",
    "            state_val = VALIDATION_STATES[0]\n",
    "        else:\n",
    "            comment = 'El elemento NO se añadió, hay un elemento adicional pero no corresponde al elemento esperado'\n",
    "            state_val = VALIDATION_STATES[-1]\n",
    "    pass\n",
    "elif len(end_test) == len(end_val) - 1: # no hay cambios en la cantidad de elementos\n",
    "    comment = 'no hay cambios en la cantidad de elementos'\n",
    "    sameOrder = True\n",
    "    for i in range(len(end_test)):\n",
    "        if end_test[i] != end_val[i]:\n",
    "            sameOrder = False\n",
    "            break\n",
    "    if sameOrder:\n",
    "        comment = 'No se añadió el elemento'\n",
    "        state_val = VALIDATION_STATES[-1]\n",
    "    else:\n",
    "        comment = 'El elemento pudo haberse añadido, pero reemplazó a un elemento de la lista'\n",
    "        state_val = VALIDATION_STATES[-1]\n",
    "elif len(end_test) < len(init_test): # Se eliminaron elementos\n",
    "    comment = 'Se eliminaron elementos de la lista'\n",
    "    state_val = VALIDATION_STATES[-1]\n",
    "else:   # Hay mas elementos de los esperados\n",
    "    comment = 'Hay mas elementos de los esperados'\n",
    "    state_val = VALIDATION_STATES[-1]\n",
    "\n",
    "\n",
    "print(comment, 'nodo:', nodo)\n",
    "print(state_val)\n",
    "print()\n",
    "print(end_test)\n",
    "print(end_val)"
   ]
  },
  {
   "cell_type": "code",
   "execution_count": 34,
   "metadata": {},
   "outputs": [
    {
     "name": "stdout",
     "output_type": "stream",
     "text": [
      "Se eliminaron todas las instancias del elemento \"5\" cuando solo una de ellas se debia eliminar\n",
      "Warning\n",
      "\n",
      "[1, 2, 4, 6, 8, 0, 3, 3]\n",
      "[1, 2, 4, 5, 6, 8, 0, 3, 3, 5]\n"
     ]
    }
   ],
   "source": [
    "VALIDATION_STATES = {0:'Warning', 1:'Successful', -1:'Failed'}\n",
    "# ---------------------------- ELIMINAR -----------------------------\n",
    "nodo = 5\n",
    "init_test = [1,2,4,5,6,8,0,3,3,5,5] \n",
    "end_test =  [1,2,4,6,8,0,3,3] \n",
    "end_val =   [1,2,4,5,6,8,0,3,3,5] \n",
    "\n",
    "if len(end_test) == len(end_val): # Hay la cantidad esperada de elementos\n",
    "    sameOrder = True\n",
    "    for i in range(len(end_test)):\n",
    "        if end_test[i] != end_val[i]:\n",
    "            sameOrder = False\n",
    "            break                       \n",
    "    if sameOrder:\n",
    "        comment = 'El elemento \"'+ str(nodo) + '\" se eliminó satisfactoriamente'\n",
    "        state_val = VALIDATION_STATES[1]\n",
    "    else:\n",
    "        end_test.sort()\n",
    "        end_val.sort()\n",
    "        if(end_test == end_val):\n",
    "            comment = 'Se eliminó una de las instancias del elemento \"'+ str(nodo) + '\"'\n",
    "            state_val = VALIDATION_STATES[1]\n",
    "        else:\n",
    "            comment = 'El elemento \"'+ str(nodo) + '\" No se eliminó satisfactoriamente, se eliminó un elemento diferente'\n",
    "            state_val = VALIDATION_STATES[-1]\n",
    "elif len(end_test) == len(init_test): # no hay cambios en la cantidad de elementos\n",
    "    sameOrder = True\n",
    "    for i in range(len(end_test)):\n",
    "        if end_test[i] != init_test[i]:\n",
    "            sameOrder = False\n",
    "            break\n",
    "    if sameOrder:\n",
    "        comment = 'No se eliminó el elemento \"' + str(nodo) + '\". La lista no presenta cambios'\n",
    "        state_val = VALIDATION_STATES[-1]\n",
    "    else:\n",
    "        comment = 'No se eliminó el elemento \"' + str(nodo) + '\". La lista presenta cambios no esperados'\n",
    "        state_val = VALIDATION_STATES[-1]     \n",
    "elif len(end_test) < len(end_val): # Se eliminaron mas elementos\n",
    "    test = set(end_test)\n",
    "    val = set(end_val)\n",
    "    if nodo not in end_test:\n",
    "        comment = 'Se eliminaron todas las instancias del elemento \"' + str(nodo) +'\" cuando solo una de ellas se debia eliminar'\n",
    "        state_val = VALIDATION_STATES[0]\n",
    "    elif test == val:\n",
    "        comment = 'Se eliminaron más instancias del elemento \"' + str(nodo) +'\" cuando solo una de ellas se debia eliminar'\n",
    "        state_val = VALIDATION_STATES[-1]\n",
    "    else:\n",
    "        comment = 'Se eliminaron más elementos de los esperados'\n",
    "        state_val = VALIDATION_STATES[-1]\n",
    "else:   # Hay mas elementos de los esperados\n",
    "    cant = len(end_test) - len(end_val)\n",
    "    comment = 'Hay '+ str(cant) + ' elementos más de los esperados'\n",
    "    state_val = VALIDATION_STATES[-1]\n",
    "\n",
    "print(comment)\n",
    "print(state_val)\n",
    "print()\n",
    "print(end_test)\n",
    "print(end_val)"
   ]
  }
 ],
 "metadata": {
  "kernelspec": {
   "display_name": "Python 3.9.12 64-bit",
   "language": "python",
   "name": "python3"
  },
  "language_info": {
   "codemirror_mode": {
    "name": "ipython",
    "version": 3
   },
   "file_extension": ".py",
   "mimetype": "text/x-python",
   "name": "python",
   "nbconvert_exporter": "python",
   "pygments_lexer": "ipython3",
   "version": "3.9.12"
  },
  "orig_nbformat": 4,
  "vscode": {
   "interpreter": {
    "hash": "8a803d61fb48b7136249db5db6f3a8557188aad2689092bd17fd97632f2b0735"
   }
  }
 },
 "nbformat": 4,
 "nbformat_minor": 2
}
