{
 "cells": [
  {
   "cell_type": "markdown",
   "metadata": {},
   "source": [
    "## Prueba Grafos"
   ]
  },
  {
   "cell_type": "code",
   "execution_count": 1,
   "metadata": {},
   "outputs": [],
   "source": [
    "from DISClib.ADT import graph as g\n",
    "from DISClib.ADT import list as lt\n",
    "from DISClib.DataStructures import edge as e\n",
    "\n",
    "class grafo:\n",
    "    def __init__(self, type='Undirected'):               # done\n",
    "        if type == 'Directed':\n",
    "            self.estructura = g.newGraph(size=10, directed=True)\n",
    "        else:\n",
    "            self.estructura = g.newGraph(size=10)\n",
    "\n",
    "    def addNode_byValue(self, infoNodo):    #done\n",
    "        self.estructura = g.insertVertex(self.estructura, infoNodo)\n",
    "\n",
    "    def addEdge_byValue(self, infoNodo_1, infoNodo_2, weight=0): #done\n",
    "        self.estructura = g.addEdge(self.estructura, infoNodo_1, infoNodo_2, weight)\n",
    "\n",
    "    def deleteNode_byValue(self, infoNodo): #done\n",
    "        self.estructura = g.removeVertex(self.estructura, infoNodo)\n",
    "\n",
    "    def deleteEdge_byValue(self, infoNodo_1, infoNodo_2):\n",
    "        #TODO\n",
    "        pass\n",
    "\n",
    "    def getEdgeValues(self):                #done\n",
    "        lst = list()\n",
    "        iter = lt.iterator(g.edges(self.estructura))\n",
    "        aux = ()\n",
    "        for i in iter:\n",
    "            aux = (i['vertexA'],i['vertexB'],i['weight'])\n",
    "            lst.append(aux)\n",
    "        return lst            \n",
    "    \n",
    "    def getNodeValues(self):                #done\n",
    "        lst = list()\n",
    "        iter = lt.iterator(g.vertices(self.estructura))\n",
    "        for i in iter:\n",
    "            lst.append(i)\n",
    "        return lst\n",
    "\n",
    "    def isNodeValue(self, infoNodo):        #done\n",
    "        return g.containsVertex(self.estructura, infoNodo)\n",
    "\n",
    "    def findAdjacentNode(self, infoNodo):   #done\n",
    "        lst = list()\n",
    "        iter = lt.iterator(g.adjacents(self.estructura, infoNodo))\n",
    "        for i in iter:\n",
    "            lst.append(i)\n",
    "        return lst"
   ]
  },
  {
   "cell_type": "code",
   "execution_count": 2,
   "metadata": {},
   "outputs": [
    {
     "name": "stdout",
     "output_type": "stream",
     "text": [
      "40 44 6.70744062935902\n",
      "[('40', '44', 6.70744062935902), ('44', '40', 6.70744062935902)]\n",
      "26 41 27.27052945660553\n",
      "[('40', '44', 6.70744062935902), ('44', '40', 6.70744062935902), ('26', '41', 27.27052945660553), ('41', '26', 27.27052945660553)]\n",
      "16 44 45.18517764355252\n",
      "[('40', '44', 6.70744062935902), ('44', '40', 6.70744062935902), ('44', '16', 45.18517764355252), ('26', '41', 27.27052945660553), ('41', '26', 27.27052945660553), ('16', '44', 45.18517764355252)]\n",
      "41 40 2.7928817436944295\n",
      "[('40', '44', 6.70744062935902), ('40', '41', 2.7928817436944295), ('44', '40', 6.70744062935902), ('44', '16', 45.18517764355252), ('26', '41', 27.27052945660553), ('41', '26', 27.27052945660553), ('41', '40', 2.7928817436944295), ('16', '44', 45.18517764355252)]\n",
      "44 26 5.601024655410668\n",
      "[('40', '44', 6.70744062935902), ('40', '41', 2.7928817436944295), ('44', '40', 6.70744062935902), ('44', '16', 45.18517764355252), ('44', '26', 5.601024655410668), ('26', '41', 27.27052945660553), ('26', '44', 5.601024655410668), ('41', '26', 27.27052945660553), ('41', '40', 2.7928817436944295), ('16', '44', 45.18517764355252)]\n",
      "44 41 21.701927543716163\n",
      "[('40', '44', 6.70744062935902), ('40', '41', 2.7928817436944295), ('44', '40', 6.70744062935902), ('44', '16', 45.18517764355252), ('44', '26', 5.601024655410668), ('44', '41', 21.701927543716163), ('26', '41', 27.27052945660553), ('26', '44', 5.601024655410668), ('41', '26', 27.27052945660553), ('41', '40', 2.7928817436944295), ('41', '44', 21.701927543716163), ('16', '44', 45.18517764355252)]\n",
      "26 41 50.883632362634245\n",
      "[('40', '44', 6.70744062935902), ('40', '41', 2.7928817436944295), ('44', '40', 6.70744062935902), ('44', '16', 45.18517764355252), ('44', '26', 5.601024655410668), ('44', '41', 21.701927543716163), ('26', '41', 27.27052945660553), ('26', '44', 5.601024655410668), ('41', '26', 27.27052945660553), ('41', '40', 2.7928817436944295), ('41', '44', 21.701927543716163), ('16', '44', 45.18517764355252)]\n",
      "44 13 7.196489335336421\n",
      "[('40', '44', 6.70744062935902), ('40', '41', 2.7928817436944295), ('44', '40', 6.70744062935902), ('44', '16', 45.18517764355252), ('44', '26', 5.601024655410668), ('44', '41', 21.701927543716163), ('44', '13', 7.196489335336421), ('26', '41', 27.27052945660553), ('26', '44', 5.601024655410668), ('41', '26', 27.27052945660553), ('41', '40', 2.7928817436944295), ('41', '44', 21.701927543716163), ('13', '44', 7.196489335336421), ('16', '44', 45.18517764355252)]\n",
      "13 26 31.09522251760839\n",
      "[('40', '44', 6.70744062935902), ('40', '41', 2.7928817436944295), ('44', '40', 6.70744062935902), ('44', '16', 45.18517764355252), ('44', '26', 5.601024655410668), ('44', '41', 21.701927543716163), ('44', '13', 7.196489335336421), ('26', '41', 27.27052945660553), ('26', '44', 5.601024655410668), ('26', '13', 31.09522251760839), ('41', '26', 27.27052945660553), ('41', '40', 2.7928817436944295), ('41', '44', 21.701927543716163), ('13', '44', 7.196489335336421), ('13', '26', 31.09522251760839), ('16', '44', 45.18517764355252)]\n",
      "41 40 26.960852568218172\n",
      "[('40', '44', 6.70744062935902), ('40', '41', 2.7928817436944295), ('44', '40', 6.70744062935902), ('44', '16', 45.18517764355252), ('44', '26', 5.601024655410668), ('44', '41', 21.701927543716163), ('44', '13', 7.196489335336421), ('26', '41', 27.27052945660553), ('26', '44', 5.601024655410668), ('26', '13', 31.09522251760839), ('41', '26', 27.27052945660553), ('41', '40', 2.7928817436944295), ('41', '44', 21.701927543716163), ('13', '44', 7.196489335336421), ('13', '26', 31.09522251760839), ('16', '44', 45.18517764355252)]\n"
     ]
    }
   ],
   "source": [
    "import random\n",
    "def create_n_randomEdges(nodos):\n",
    "    edges = list()\n",
    "    for i in range(len(nodos)):\n",
    "        a = random.choice(nodos)\n",
    "        b = random.choice(nodos)\n",
    "        while a == b:\n",
    "            b = random.choice(nodos)\n",
    "        if (a,b) not in edges:\n",
    "            num = random.random() + random.randint(1,50)\n",
    "            edges.append((a,b,num))\n",
    "    return edges\n",
    "\n",
    "def create_n_random(n, string=False):\n",
    "    nodos = list()\n",
    "    for i in range(n*n):\n",
    "        num = random.randint(1,50)\n",
    "        if num not in nodos:\n",
    "            if string:\n",
    "                nodos.append(str(num))\n",
    "            else:  \n",
    "                nodos.append(num)\n",
    "        if len(nodos) == n:\n",
    "            break\n",
    "    return nodos \n",
    "\n",
    "estructura = grafo()\n",
    "long = random.randint(10,15)\n",
    "nodos = create_n_random(long,string=True)\n",
    "edges = create_n_randomEdges(nodos)\n",
    "for i in nodos:\n",
    "    try:\n",
    "        estructura.addNode_byValue(str(i))\n",
    "    except:\n",
    "        e = '\\tProblema al añadir el elemento \"'+str(i)+'\", método addNode_byValue()'\n",
    "        raise Exception(e)\n",
    "for i,j,k in edges:\n",
    "    print(i,j,k)\n",
    "    try:\n",
    "        estructura.addEdge_byValue(i,j,k)\n",
    "        print(estructura.getEdgeValues())\n",
    "    except:\n",
    "        e = '\\tProblema al añadir el arco \"('+i+ '->'+ j + ')\", método addEdge_byValue()'\n",
    "        raise Exception(e)"
   ]
  }
 ],
 "metadata": {
  "kernelspec": {
   "display_name": "Python 3.8.3 ('base')",
   "language": "python",
   "name": "python3"
  },
  "language_info": {
   "codemirror_mode": {
    "name": "ipython",
    "version": 3
   },
   "file_extension": ".py",
   "mimetype": "text/x-python",
   "name": "python",
   "nbconvert_exporter": "python",
   "pygments_lexer": "ipython3",
   "version": "3.8.15"
  },
  "orig_nbformat": 4,
  "vscode": {
   "interpreter": {
    "hash": "9e71e2cb62eb7ca1ff6ef653ac485849c22f1dae5441621efea99e1f023092c9"
   }
  }
 },
 "nbformat": 4,
 "nbformat_minor": 2
}
