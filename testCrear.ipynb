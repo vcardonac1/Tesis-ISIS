{
 "cells": [
  {
   "cell_type": "code",
   "execution_count": null,
   "metadata": {},
   "outputs": [],
   "source": [
    "import ipywidgets as widgets # for the interactive user interface\n",
    "from ipywidgets import *\n",
    "\n",
    "out, out1, out2, out3 = Output(), Output(), Output(), Output()\n",
    "listaInputNode = widgets.Text(\n",
    "    value = '',\n",
    "    placeholder = 'Valor del nodo',\n",
    "    disabled = False,\n",
    "    layout = {'width': '140px', 'justify_content':'center'}\n",
    ")\n",
    "def hideShowOptions(option):\n",
    "    for i in allOptions:\n",
    "        i.layout.visibility = 'hidden'\n",
    "        i.layout.display = 'none'\n",
    "    listaInputNode.value = ''\n",
    "       \n",
    "    option.layout.display = 'block'\n",
    "    option.layout.visibility = \"visible\"\n",
    "\n",
    "allOptions = list()\n",
    "form_item_layout = Layout(\n",
    "    justify_content='center'\n",
    ")"
   ]
  },
  {
   "cell_type": "code",
   "execution_count": null,
   "metadata": {},
   "outputs": [],
   "source": [
    "## ----------------------------- Opciones Grafo ---------------------------------------\n",
    "grafoInputNodeInit = widgets.Text(\n",
    "    value = '',\n",
    "    placeholder = 'Nodo Origen',\n",
    "    disabled = False,\n",
    "    layout = {'width': '140px', 'justify_content':'center'}\n",
    ")\n",
    "grafoInputNodeEnd = widgets.Text(\n",
    "    value = '',\n",
    "    placeholder = 'Nodo Destino',\n",
    "    disabled = False,\n",
    "    layout = {'width': '140px', 'justify_content':'center'}\n",
    ")\n",
    "grafoInputEdgeWeight = widgets.Text(\n",
    "    value = '',\n",
    "    placeholder = 'Peso Arco',\n",
    "    disabled = False,\n",
    "    layout = {'width': '140px', 'justify_content':'center'}\n",
    ")\n",
    "# bloque A\n",
    "btn_addEdgeOption = Button(description='Añadir', width='extended')\n",
    "def on_button_addEdgeOption_clicked(b):\n",
    "    with out:\n",
    "        print('Add Edge Graph')\n",
    "btn_addEdgeOption.on_click(on_button_addEdgeOption_clicked)\n",
    "## ----------------------------------------------------------------------------------\n",
    "\n",
    "\n",
    "## ----------------------------- Layout Grafo ---------------------------------------\n",
    "layoutOptionsAddEdgeGrafo = Layout(\n",
    "    display='none',\n",
    "    flex_flow='column',\n",
    "    align_items='stretch',\n",
    "    width='auto',\n",
    "    justify_content='center'\n",
    ")\n",
    "items_optionsAddEdgeGrafo = [\n",
    "    Box([Label(value=' ')]),\n",
    "    Box([Label(value='Añadir Arco')], layout=form_item_layout),\n",
    "    Box([grafoInputNodeInit], layout=form_item_layout),\n",
    "    Box([grafoInputNodeEnd], layout=form_item_layout),\n",
    "    Box([grafoInputEdgeWeight], layout=form_item_layout),\n",
    "    Box([btn_addEdgeOption], layout=form_item_layout),\n",
    "]\n",
    "optionsAddEdgeGrafo = Box(items_optionsAddEdgeGrafo, layout=layoutOptionsAddEdgeGrafo)\n",
    "## ----------------------------------------------------------------------------------\n",
    "\n",
    "## ----------------------------- Build Layouts ---------------------------------------\n",
    "# Añadir a allOptions optionsAddEdgeGrafo\n",
    "# bloque B\n",
    "btn_addEdgeGrafo = Button(description='Añadir Arco', width='extended')\n",
    "def on_button_addEdgeGrafo_clicked(b):\n",
    "    with out:\n",
    "        hideShowOptions(optionsAddEdgeGrafo)\n",
    "btn_addEdgeGrafo.on_click(on_button_addEdgeGrafo_clicked)\n",
    "## ----------------------------------------------------------------------------------\n",
    "\n",
    "# Añadir optionsAddEdgeGrafo a optionsGrafos"
   ]
  },
  {
   "cell_type": "markdown",
   "metadata": {},
   "source": [
    "### Crear Un boton para una estructura ya existente\n",
    "* En **Opciones Grafo** añadir _grafoInputNodeInit_, _grafoInputNodeEnd_, _grafoInputEdgeWeight_, _bloque A_\n",
    "* En **Layout Grafo** añadir _layoutOptionsAddEdgeGrafo_, __items_optionsAddEdgeGrafo__, optionsAddEdgeGrafo\n",
    "* En **Build Layouts** añadir _optionsAddEdgeGrafo_ a la lista _allOptions_\n",
    "    - Añadir _Bloque B_ en -----Panel de Opciones Grafo-----\n",
    "* En **Build Opciones** añadir __btn_addEdgeGrafo__ en __buttons_grafos__\n",
    "    - Añadir _optionsAddEdgeGrafo_ a _optionsGrafos_\n",
    "    \n",
    "* Si hay inputs, settearlos a '' en **Build Layouts** funcion _hideShowOptions_"
   ]
  },
  {
   "cell_type": "code",
   "execution_count": null,
   "metadata": {},
   "outputs": [],
   "source": [
    "# En Opciones Grafo añadir grafoInputNodeInit, grafoInputNodeEnd, grafoInputEdgeWeight, bloque A\n",
    "# En Layout Grafo añadir layoutOptionsAddEdgeGrafo, items_optionsAddEdgeGrafo, optionsAddEdgeGrafo\n",
    "# En Build Layouts añadir optionsAddEdgeGrafo a la lista allOptions\n",
    "    # Añadir Bloque B en -----Panel de Opciones Grafo-----\n",
    "# En Build Opciones añadir btn_addEdgeGrafo en buttons_grafos\n",
    "    # Añadir optionsAddEdgeGrafo a optionsGrafos\n",
    "    \n",
    "# Si hay inputs, settearlos a '' en Build Layouts funcion hideShowOptions"
   ]
  }
 ],
 "metadata": {
  "kernelspec": {
   "display_name": "Python 3.9.12 64-bit",
   "language": "python",
   "name": "python3"
  },
  "language_info": {
   "name": "python",
   "version": "3.9.12"
  },
  "orig_nbformat": 4,
  "vscode": {
   "interpreter": {
    "hash": "8a803d61fb48b7136249db5db6f3a8557188aad2689092bd17fd97632f2b0735"
   }
  }
 },
 "nbformat": 4,
 "nbformat_minor": 2
}
