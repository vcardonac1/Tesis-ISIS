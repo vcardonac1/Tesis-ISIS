{
 "cells": [
  {
   "cell_type": "markdown",
   "metadata": {},
   "source": [
    "## Prueba Grafos"
   ]
  },
  {
   "cell_type": "code",
   "execution_count": 1,
   "metadata": {},
   "outputs": [],
   "source": [
    "from DISClib.ADT import graph as g\n",
    "\n",
    "class grafo:\n",
    "    def __init__(self, type):\n",
    "        \"\"\" Crea una lista enlazada con el tipo especificado\n",
    "        \n",
    "            Input:\n",
    "                type: tipo de la lista enlazada (1:sencilla, 2:doble)\n",
    "        \"\"\"\n",
    "        if type == 1: s_type = 'SINGLE_LINKED'\n",
    "        else: s_type = 'DOUBLE_LINKED'\n",
    "        self.estructura = lt.newList(datastructure = s_type)\n",
    "    \n",
    "    def addNode(self, element):\n",
    "        \"\"\" Agrega un elemento al final de la lista\n",
    "        \n",
    "            Input:\n",
    "                element: elemento que se va a adicionar\n",
    "        \"\"\"\n",
    "        lt.addLast(self.estructura, element)\n",
    "\n",
    "    def getNodes(self):\n",
    "        \"\"\" Retorna una lista con los nodos\n",
    "        \"\"\"\n",
    "        nodes = list()\n",
    "        iter = lt.iterator(self.estructura)\n",
    "        for i in iter:\n",
    "            nodes.append(i)\n",
    "        return nodes\n",
    "    \n",
    "    def isElement(self, element):\n",
    "        \"\"\" Indica si un elemento pertenece a la lista\n",
    "        \n",
    "        Input:\n",
    "            element: elemento que se consulta\n",
    "        \n",
    "        Return:\n",
    "            Si esta presente, retorna la posición en la que se encuentra\n",
    "            o cero (0) si no esta presente\n",
    "        \"\"\"\n",
    "        return lt.isPresent(self.estructura, element)\n",
    "    \n",
    "    def getElement(self, pos):\n",
    "        \"\"\" Retorna el elemento dada una posicion\n",
    "        \n",
    "        Input:\n",
    "            pos: posicion del elemento (1-len)\n",
    "        \"\"\"\n",
    "        return lt.getElement(self.estructura, pos)\n",
    "    \n",
    "    def deleteElement(self, pos):\n",
    "        \"\"\" Elimina el elemento dada una posicion\n",
    "        \n",
    "        Input:\n",
    "            pos: posicion del elemento que se va a eliminar\n",
    "        \n",
    "        \"\"\"\n",
    "        if pos == 1 : lt.removeFirst(self.estructura)\n",
    "        else:   lt.deleteElement(self.estructura, pos)\n",
    "    "
   ]
  },
  {
   "cell_type": "code",
   "execution_count": 2,
   "metadata": {},
   "outputs": [
    {
     "name": "stdout",
     "output_type": "stream",
     "text": [
      "['Bogota']\n"
     ]
    }
   ],
   "source": [
    "from DISClib.ADT import graph as g\n",
    "\n",
    "graph = g.newGraph(size=10)\n",
    "\n",
    "g.insertVertex(graph, 'Bogota')\n",
    "\n",
    "nodos = g.vertices(graph)\n",
    "lista = list()\n",
    "if nodos['size'] > 0:\n",
    "    init = nodos['first']\n",
    "    lista.append(init['info'])\n",
    "\n",
    "    for i in range(1,nodos['size']):\n",
    "        init = init['next']\n",
    "        lista.append(init['info'])\n",
    "\n",
    "print(lista)"
   ]
  },
  {
   "cell_type": "code",
   "execution_count": 3,
   "metadata": {},
   "outputs": [
    {
     "name": "stdout",
     "output_type": "stream",
     "text": [
      "None\n"
     ]
    }
   ],
   "source": [
    "class graph:\n",
    "    def __init__(self, type):\n",
    "        \"\"\" Crea un grafo con el tipo especificado\n",
    "        \n",
    "            Input:\n",
    "                type: tipo del grafo (3:no dirigido, 4:dirigido)\n",
    "        \"\"\"\n",
    "        if type == 3: s_type = False\n",
    "        else: s_type = True\n",
    "        self.estructura = g.newGraph(directed = s_type)\n",
    "\n",
    "    def addNode(self, element):\n",
    "        \"\"\" Agrega el nodo como vertice del grafo\n",
    "        \n",
    "            Inputs:\n",
    "                element: elemento que se añade al grafo\n",
    "        \"\"\"\n",
    "        g.insertVertex(self.estructura, element)\n",
    "\n",
    "    def getNodes(self):\n",
    "        \"\"\" Retorna una lista con todos los vertices del grafo\n",
    "        \n",
    "            Solo se trabaja con IDs\n",
    "        \n",
    "            Return: lista de nodos\n",
    "        \"\"\"\n",
    "        nodos = g.vertices(self.estructura)\n",
    "        lista = list()\n",
    "        if nodos['size'] > 0:\n",
    "            init = nodos['first']\n",
    "            lista.append(init['info'])\n",
    "\n",
    "            for i in range(1,nodos['size']):\n",
    "                init = init['next']\n",
    "                lista.append(init['info'])\n",
    "        return lista\n",
    "\n",
    "    def isNode(self, nodo):\n",
    "        \"\"\" Indica si un vertice dado pertenece al grafo\n",
    "        \n",
    "        Return:\n",
    "            True si el vertice existen en el grafo, \n",
    "            False de lo contrario    \n",
    "        \"\"\"\n",
    "        return g.containsVertex(self.estructura, nodo)\n",
    "\n",
    "    def addEdge(self, nodo_A, nodo_B, weight=0):\n",
    "        g.addEdge(self.estructura, nodo_A, nodo_B, weight)\n",
    "\n",
    "    def getEdges(self):\n",
    "        edges = g.edges(self.estructura)\n",
    "    \n",
    "grafo = graph(4) # grafo no dirigido\n",
    "grafo.addNode('A')\n",
    "grafo.addNode('B')\n",
    "grafo.addEdge('A','B')\n",
    "\n",
    "edges = grafo.getEdges()\n",
    "print(edges)"
   ]
  },
  {
   "cell_type": "code",
   "execution_count": 4,
   "metadata": {},
   "outputs": [
    {
     "name": "stdout",
     "output_type": "stream",
     "text": [
      "{'first': {'info': {'vertexA': 'Cali', 'vertexB': 'Pasto', 'weight': 0}, 'next': {'info': {'vertexA': 'Cali', 'vertexB': 'Barranquilla', 'weight': 0}, 'next': {'info': {'vertexA': 'Pasto', 'vertexB': 'Manizales', 'weight': 0}, 'next': {'info': {'vertexA': 'Bogota', 'vertexB': 'Yopal', 'weight': 0}, 'next': {'info': {'vertexA': 'Bogota', 'vertexB': 'Medellin', 'weight': 0}, 'next': {'info': {'vertexA': 'Bogota', 'vertexB': 'Pasto', 'weight': 0}, 'next': {'info': {'vertexA': 'Bogota', 'vertexB': 'Cali', 'weight': 0}, 'next': {'info': {'vertexA': 'Medellin', 'vertexB': 'Pasto', 'weight': 0}, 'next': {'info': {'vertexA': 'Yopal', 'vertexB': 'Medellin', 'weight': 0}, 'next': {'info': {'vertexA': 'Barranquilla', 'vertexB': 'Manizales', 'weight': 0}, 'next': None}}}}}}}}}}, 'last': {'info': {'vertexA': 'Barranquilla', 'vertexB': 'Manizales', 'weight': 0}, 'next': None}, 'size': 10, 'key': None, 'type': 'SINGLE_LINKED', 'datastructure': <module 'DISClib.DataStructures.singlelinkedlist' from 'c:\\\\Users\\\\vhane\\\\Desktop\\\\Tesis ISIS\\\\code\\\\ISIS1225-Lib-main\\\\DISClib\\\\DataStructures\\\\singlelinkedlist.py'>, 'cmpfunction': <function compareedges at 0x000002168CF428B0>}\n",
      "\n",
      "\n",
      " 1 {'vertexA': 'Cali', 'vertexB': 'Pasto', 'weight': 0}\n",
      " 2 {'vertexA': 'Cali', 'vertexB': 'Barranquilla', 'weight': 0}\n",
      " 3 {'vertexA': 'Pasto', 'vertexB': 'Manizales', 'weight': 0}\n",
      " 4 {'vertexA': 'Bogota', 'vertexB': 'Yopal', 'weight': 0}\n",
      " 5 {'vertexA': 'Bogota', 'vertexB': 'Medellin', 'weight': 0}\n",
      " 6 {'vertexA': 'Bogota', 'vertexB': 'Pasto', 'weight': 0}\n",
      " 7 {'vertexA': 'Bogota', 'vertexB': 'Cali', 'weight': 0}\n",
      " 8 {'vertexA': 'Medellin', 'vertexB': 'Pasto', 'weight': 0}\n",
      " 9 {'vertexA': 'Yopal', 'vertexB': 'Medellin', 'weight': 0}\n",
      "10 {'vertexA': 'Barranquilla', 'vertexB': 'Manizales', 'weight': 0}\n"
     ]
    }
   ],
   "source": [
    "graph = g.newGraph(directed=True)\n",
    "g.insertVertex(graph, 'Bogota')\n",
    "g.insertVertex(graph, 'Yopal')\n",
    "g.insertVertex(graph, 'Cali')\n",
    "g.insertVertex(graph, 'Medellin')\n",
    "g.insertVertex(graph, 'Pasto')\n",
    "g.insertVertex(graph, 'Barranquilla')\n",
    "g.insertVertex(graph, 'Manizales')\n",
    "\n",
    "g.addEdge(graph, 'Bogota', 'Yopal')\n",
    "g.addEdge(graph, 'Bogota', 'Medellin')\n",
    "g.addEdge(graph, 'Bogota', 'Pasto')\n",
    "g.addEdge(graph, 'Bogota', 'Cali')\n",
    "g.addEdge(graph, 'Yopal', 'Medellin')\n",
    "g.addEdge(graph, 'Medellin', 'Pasto')\n",
    "g.addEdge(graph, 'Cali', 'Pasto')\n",
    "g.addEdge(graph, 'Cali', 'Barranquilla')\n",
    "g.addEdge(graph, 'Barranquilla', 'Manizales')\n",
    "g.addEdge(graph, 'Pasto', 'Manizales')\n",
    "\n",
    "\n",
    "print(g.edges(graph))\n",
    "\n",
    "edges = g.edges(graph)\n",
    "lista = list()\n",
    "print(\"\\n\")\n",
    "print(' 1',edges['first']['info'])\n",
    "print(' 2',edges['first']['next']['info'])\n",
    "print(' 3',edges['first']['next']['next']['info'])\n",
    "print(' 4',edges['first']['next']['next']['next']['info'])\n",
    "print(' 5',edges['first']['next']['next']['next']['next']['info'])\n",
    "print(' 6',edges['first']['next']['next']['next']['next']['next']['info'])\n",
    "print(' 7',edges['first']['next']['next']['next']['next']['next']['next']['info'])\n",
    "print(' 8',edges['first']['next']['next']['next']['next']['next']['next']['next']['info'])\n",
    "print(' 9',edges['first']['next']['next']['next']['next']['next']['next']['next']['next']['info'])\n",
    "print('10',edges['first']['next']['next']['next']['next']['next']['next']['next']['next']['next']['info'])"
   ]
  },
  {
   "cell_type": "code",
   "execution_count": 5,
   "metadata": {},
   "outputs": [
    {
     "data": {
      "text/plain": [
       "\"\\n        EJEMPLO             |       IN      |       OUT     |\\n----------------------------|---------------|---------------|\\nlista = listaEnlazada(1)    |      1 - 2    | listaEnlazada |\\nlista.addNode('A')          |    elemento   |               |\\nnodos = lista.getNodes()    |               |   listaNodos  |\\npos = lista.isElement('A')  |    elemento   |    posicion   |\\nnode = lista.getElement(1)  |    posicion   |    elemento   |\\nlista.deleteElement(1)      |    posicion   |               |\\n\""
      ]
     },
     "execution_count": 5,
     "metadata": {},
     "output_type": "execute_result"
    }
   ],
   "source": [
    "\"\"\"\n",
    "        EJEMPLO             |       IN      |       OUT     |\n",
    "----------------------------|---------------|---------------|\n",
    "lista = listaEnlazada(1)    |      1 - 2    | listaEnlazada |\n",
    "lista.addNode('A')          |    elemento   |               |\n",
    "nodos = lista.getNodes()    |               |   listaNodos  |\n",
    "pos = lista.isElement('A')  |    elemento   |    posicion   |\n",
    "node = lista.getElement(1)  |    posicion   |    elemento   |\n",
    "lista.deleteElement(1)      |    posicion   |               |\n",
    "\"\"\""
   ]
  }
 ],
 "metadata": {
  "kernelspec": {
   "display_name": "Python 3.9.12 64-bit",
   "language": "python",
   "name": "python3"
  },
  "language_info": {
   "codemirror_mode": {
    "name": "ipython",
    "version": 3
   },
   "file_extension": ".py",
   "mimetype": "text/x-python",
   "name": "python",
   "nbconvert_exporter": "python",
   "pygments_lexer": "ipython3",
   "version": "3.9.12"
  },
  "orig_nbformat": 4,
  "vscode": {
   "interpreter": {
    "hash": "8a803d61fb48b7136249db5db6f3a8557188aad2689092bd17fd97632f2b0735"
   }
  }
 },
 "nbformat": 4,
 "nbformat_minor": 2
}
