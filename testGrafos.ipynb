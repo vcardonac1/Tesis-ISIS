{
 "cells": [
  {
   "cell_type": "markdown",
   "metadata": {},
   "source": [
    "## Prueba Grafos"
   ]
  },
  {
   "cell_type": "code",
   "execution_count": 97,
   "metadata": {},
   "outputs": [],
   "source": [
    "from DISClib.ADT import graph as g\n",
    "from DISClib.ADT import list as lt\n",
    "from DISClib.DataStructures import edge as e\n",
    "from DISClib.ADT import stack\n",
    "from DISClib.Algorithms.Graphs import bellmanford as bf\n",
    "from DISClib.Algorithms.Graphs import bfs\n",
    "from DISClib.Algorithms.Graphs import cycles as c\n",
    "from DISClib.Algorithms.Graphs import dfs\n",
    "from DISClib.Algorithms.Graphs import dfo\n",
    "from DISClib.Algorithms.Graphs import prim\n",
    "from DISClib.Algorithms.Graphs import scc\n",
    "from DISClib.Algorithms.Graphs import dijsktra as djk\n",
    "from DISClib.ADT import queue as q\n",
    "from graphviz import Digraph, Graph\n",
    "\n",
    "def displayGraph(estructura, tipo, label, nodosX=list(), edgesX=list()):\n",
    "    nodes = estructura.getNodeValues()\n",
    "    edges = estructura.getEdgeValues()\n",
    "    edgesAux = estructura.getEdgeValues()\n",
    "    for i,j,k in edges:\n",
    "        if j not in nodes:\n",
    "            edgesAux.remove((i,j,k))    \n",
    "    edges = edgesAux\n",
    "    if tipo == 4:\n",
    "        dot = Digraph()\n",
    "    else:\n",
    "        dot = Graph()\n",
    "    \n",
    "    dot.graph_attr = {\n",
    "        'rankdir': 'TB',\n",
    "        'center': 'true',\n",
    "        'size':'14,5',\n",
    "        'ratio':'auto',\n",
    "        'layout': 'neato',\n",
    "        'mode': 'sgd',\n",
    "    }\n",
    "    \n",
    "    for i in nodes:\n",
    "        if i in nodosX:\n",
    "            dot.node(name=i, label=i, shape='circle',color='red')\n",
    "        else:\n",
    "            dot.node(name=i, label=i, shape='circle',color='black')\n",
    "    if tipo == 4:\n",
    "        for i,j,k in edges:\n",
    "            if (i,j) in edgesX:\n",
    "                if label:\n",
    "                    dot.edge(i, j, label=str(round(k,2)), color='red', fontsize='8.0')\n",
    "                else:\n",
    "                    dot.edge(i, j, color='red')\n",
    "            else:\n",
    "                if label:\n",
    "                    dot.edge(i, j, label=str(round(k,2)), color='black', fontsize='8.0')\n",
    "                else:\n",
    "                    dot.edge(i, j, color='black')\n",
    "    else:\n",
    "        tuples = list()\n",
    "        for i,j,k in edges:\n",
    "            inv = (j, i)\n",
    "            if inv not in tuples:\n",
    "                if (i,j) in edgesX or inv in edgesX:\n",
    "                    if label:\n",
    "                        dot.edge(i, j, label=str(round(k,2)), color='red', fontsize='8.0')\n",
    "                    else:\n",
    "                        dot.edge(i, j, color='red')\n",
    "                else:\n",
    "                    if label:\n",
    "                        dot.edge(i, j, label=str(round(k,2)), color='black', fontsize='8.0')\n",
    "                    else:\n",
    "                        dot.edge(i, j, color='black')\n",
    "            tuples.append((i, j))\n",
    "    display(dot)\n"
   ]
  },
  {
   "cell_type": "code",
   "execution_count": 98,
   "metadata": {},
   "outputs": [],
   "source": [
    "class grafo:\n",
    "    def __init__(self, type='Undirected'):               # done\n",
    "        if type == 'Directed':\n",
    "            self.estructura = g.newGraph(size=10, directed=True)\n",
    "        else:\n",
    "            self.estructura = g.newGraph(size=10)\n",
    "\n",
    "    def addNode_byValue(self, infoNodo):    #done\n",
    "        infoNodo = str(infoNodo)\n",
    "        self.estructura = g.insertVertex(self.estructura, infoNodo)\n",
    "\n",
    "    def addEdge_byValue(self, infoNodo_1, infoNodo_2, weight=0): #done\n",
    "        infoNodo_1 = str(infoNodo_1)\n",
    "        infoNodo_2 = str(infoNodo_2)\n",
    "        self.estructura = g.addEdge(self.estructura, infoNodo_1, infoNodo_2, weight)\n",
    "\n",
    "    def deleteNode_byValue(self, infoNodo): #done\n",
    "        infoNodo = str(infoNodo)\n",
    "        self.estructura = g.removeVertex(self.estructura, infoNodo)\n",
    "\n",
    "    def deleteEdge_byValue(self, infoNodo_1, infoNodo_2):\n",
    "        #TODO\n",
    "        pass\n",
    "\n",
    "    def getEdgeValues(self):                #done\n",
    "        lst = list()\n",
    "        iter = lt.iterator(g.edges(self.estructura))\n",
    "        aux = ()\n",
    "        for i in iter:\n",
    "            aux = (i['vertexA'],i['vertexB'],i['weight'])\n",
    "            lst.append(aux)\n",
    "        return lst            \n",
    "    \n",
    "    def getNodeValues(self):                #done\n",
    "        lst = list()\n",
    "        iter = lt.iterator(g.vertices(self.estructura))\n",
    "        for i in iter:\n",
    "            lst.append(i)\n",
    "        return lst\n",
    "\n",
    "    def isNodeValue(self, infoNodo):        #done\n",
    "        infoNodo = str(infoNodo)\n",
    "        return g.containsVertex(self.estructura, infoNodo)\n",
    "\n",
    "    def findAdjacentNode(self, infoNodo):   #done\n",
    "        infoNodo = str(infoNodo)\n",
    "        lst = list()\n",
    "        try:\n",
    "            iter = lt.iterator(g.adjacents(self.estructura, infoNodo))\n",
    "            for i in iter:\n",
    "                lst.append(i)\n",
    "        except:\n",
    "            pass\n",
    "        return lst\n",
    "    \n",
    "    def algorithms(self, algoritmo, infoNodo=None):\n",
    "        if infoNodo != None:\n",
    "            infoNodo = str(infoNodo)\n",
    "        table = list()\n",
    "        if algoritmo == 'Bellman-Ford':\n",
    "            search = bf.BellmanFord(self.estructura, infoNodo)\n",
    "            for i in self.getNodeValues():\n",
    "                costo = bf.distTo(search, i)\n",
    "                path = list()\n",
    "                if bf.hasPathTo(search, i):\n",
    "                    iter = lt.iterator(bf.pathTo(search, i))\n",
    "                    for j in iter:\n",
    "                        path.append((j['vertexA'], j['vertexB']))\n",
    "                else:\n",
    "                    costo = 'inf'    \n",
    "                my_dict = {'node': i, 'cost': costo, 'path': path}\n",
    "                table.append(my_dict)\n",
    "                \n",
    "        if algoritmo == 'BreadhtFirstSearch':\n",
    "            search = bfs.BreadhtFisrtSearch(self.estructura, infoNodo)\n",
    "            for i in self.getNodeValues():\n",
    "                if bfs.hasPathTo(search, i):\n",
    "                    table.append(i)\n",
    "                \n",
    "        if algoritmo == \"DirectedCycle\":\n",
    "            search = c.DirectedCycle(self.estructura)\n",
    "            if c.hasCycle(search):\n",
    "                pathRta = c.cycle(search)\n",
    "                while not stack.isEmpty(pathRta):\n",
    "                    edge = stack.pop(pathRta)\n",
    "                    table.append((edge['vertexA'], edge['vertexB']))\n",
    "        \n",
    "        if algoritmo == 'DepthFirstSearch':\n",
    "            search = dfs.DepthFirstSearch(self.estructura, infoNodo)\n",
    "            for i in self.getNodeValues():\n",
    "                if dfs.hasPathTo(search, i):\n",
    "                    table.append(i)\n",
    "        \n",
    "        if algoritmo == 'DepthFirstOrder':\n",
    "            search = dfo.DepthFirstOrder(self.estructura)\n",
    "            while not stack.isEmpty(search['reversepost']):\n",
    "                top = stack.pop(search['reversepost'])\n",
    "                table.append(top)\n",
    "                \n",
    "        if algoritmo == 'PrimMST':\n",
    "            search = prim.PrimMST(self.estructura, infoNodo)\n",
    "            weight = prim.weightMST(self.estructura, search)\n",
    "            path = search['mst']\n",
    "            while not q.isEmpty(path):\n",
    "                edge = q.dequeue(path)\n",
    "                table.append((edge['vertexA'], edge['vertexB']))\n",
    "            return table, weight\n",
    "        \n",
    "        if algoritmo == 'KosarajuSCC':\n",
    "            sc = scc.KosarajuSCC(self.estructura)\n",
    "            elements = sc['idscc']['table']['elements']\n",
    "            table = dict()\n",
    "            for i in elements:\n",
    "                if i['value'] != None:\n",
    "                    try:\n",
    "                        lista = table[i['value']]\n",
    "                        lista.append(i['key'])\n",
    "                        table[i['value']] = lista\n",
    "                    except:\n",
    "                        table[i['value']] = [i['key']]\n",
    "        \n",
    "        if algoritmo == 'Dijkstra':\n",
    "            search = djk.Dijkstra(self.estructura, infoNodo)\n",
    "            for i in self.getNodeValues():\n",
    "                if djk.hasPathTo(search, i):\n",
    "                    path = djk.pathTo(search, i)\n",
    "                    aux = dict()\n",
    "                    pathList = list()\n",
    "                    while not stack.isEmpty(path):\n",
    "                        edge = stack.pop(path)\n",
    "                        pathList.append((edge['vertexA'], edge['vertexB']))\n",
    "                    aux['node'] = i\n",
    "                    aux['path'] = pathList\n",
    "                    aux['cost'] = djk.distTo(search, i)\n",
    "                    table.append(aux)            \n",
    "        return table"
   ]
  },
  {
   "cell_type": "code",
   "execution_count": 99,
   "metadata": {},
   "outputs": [],
   "source": [
    "nodos = [24, 38, 21, 49, 18, 22, 3, 16, 31, 39, 20]\n",
    "edges = [(3,18,30.95), (22,3,35.15), (18,38,4.43), (31,3,18.08), (49,3,32.4), (24,31,46.88), (3,21,46.86), (39,16,30.32), (21,24,15.93), (22,20,40.66), (49,39,44.37), (3,16,34.86)]\n",
    "estructura = grafo('Directed')\n",
    "#estructura = grafo()\n",
    "for i in nodos:\n",
    "    estructura.addNode_byValue(i)\n",
    "for i,j,k in edges:\n",
    "    estructura.addEdge_byValue(i,j,k)"
   ]
  },
  {
   "cell_type": "code",
   "execution_count": 100,
   "metadata": {},
   "outputs": [
    {
     "name": "stdout",
     "output_type": "stream",
     "text": [
      "{'node': '21', 'path': [('3', '21')], 'cost': 46.86}\n",
      "{'node': '3', 'path': [], 'cost': 0}\n",
      "{'node': '16', 'path': [('3', '16')], 'cost': 34.86}\n",
      "{'node': '38', 'path': [('3', '18'), ('18', '38')], 'cost': 35.379999999999995}\n",
      "{'node': '24', 'path': [('3', '21'), ('21', '24')], 'cost': 62.79}\n",
      "{'node': '18', 'path': [('3', '18')], 'cost': 30.95}\n",
      "{'node': '31', 'path': [('3', '21'), ('21', '24'), ('24', '31')], 'cost': 109.67}\n"
     ]
    }
   ],
   "source": [
    "rta = estructura.algorithms('Dijkstra', '3')\n",
    "for i in rta:\n",
    "    print(i)"
   ]
  },
  {
   "cell_type": "code",
   "execution_count": 101,
   "metadata": {},
   "outputs": [
    {
     "name": "stdout",
     "output_type": "stream",
     "text": [
      "{5: ['31', '21', '24', '3'], 3: ['18'], 2: ['38'], 6: ['22'], 4: ['16'], 7: ['39'], 1: ['20'], 8: ['49']}\n"
     ]
    }
   ],
   "source": [
    "rta = estructura.algorithms('KosarajuSCC')\n",
    "print(rta)"
   ]
  },
  {
   "cell_type": "code",
   "execution_count": 102,
   "metadata": {},
   "outputs": [
    {
     "name": "stdout",
     "output_type": "stream",
     "text": [
      "[('31', '3'), ('39', '16'), ('18', '38'), ('21', '24'), ('3', '18'), ('24', '31')]\n",
      "146.59\n"
     ]
    }
   ],
   "source": [
    "mst, weight = estructura.algorithms('PrimMST', '3')\n",
    "print(mst)\n",
    "print(weight)"
   ]
  },
  {
   "cell_type": "code",
   "execution_count": 103,
   "metadata": {},
   "outputs": [
    {
     "name": "stdout",
     "output_type": "stream",
     "text": [
      "['22', '49', '20', '21', '24', '31', '3', '18', '38', '39', '16']\n"
     ]
    }
   ],
   "source": [
    "rta = estructura.algorithms('DepthFirstOrder')\n",
    "print(rta)"
   ]
  },
  {
   "cell_type": "code",
   "execution_count": 104,
   "metadata": {},
   "outputs": [
    {
     "name": "stdout",
     "output_type": "stream",
     "text": [
      "[('21', '24'), ('24', '31'), ('31', '3'), ('3', '21')]\n"
     ]
    }
   ],
   "source": [
    "rta = estructura.algorithms('DirectedCycle')\n",
    "print(rta)"
   ]
  },
  {
   "cell_type": "code",
   "execution_count": 105,
   "metadata": {},
   "outputs": [
    {
     "data": {
      "image/svg+xml": "<?xml version=\"1.0\" encoding=\"UTF-8\" standalone=\"no\"?>\n<!DOCTYPE svg PUBLIC \"-//W3C//DTD SVG 1.1//EN\"\n \"http://www.w3.org/Graphics/SVG/1.1/DTD/svg11.dtd\">\n<!-- Generated by graphviz version 5.0.1 (20220820.1526)\n -->\n<!-- Pages: 1 -->\n<svg width=\"356pt\" height=\"356pt\"\n viewBox=\"0.00 0.00 356.41 355.97\" xmlns=\"http://www.w3.org/2000/svg\" xmlns:xlink=\"http://www.w3.org/1999/xlink\">\n<g id=\"graph0\" class=\"graph\" transform=\"scale(1 1) rotate(0) translate(4 351.97)\">\n<polygon fill=\"white\" stroke=\"none\" points=\"-4,4 -4,-351.97 352.41,-351.97 352.41,4 -4,4\"/>\n<!-- 39 -->\n<g id=\"node1\" class=\"node\">\n<title>39</title>\n<ellipse fill=\"none\" stroke=\"black\" cx=\"19.5\" cy=\"-185.3\" rx=\"19.5\" ry=\"19.5\"/>\n<text text-anchor=\"middle\" x=\"19.5\" y=\"-181.6\" font-family=\"Times New Roman,serif\" font-size=\"14.00\">39</text>\n</g>\n<!-- 16 -->\n<g id=\"node5\" class=\"node\">\n<title>16</title>\n<ellipse fill=\"none\" stroke=\"black\" cx=\"84.57\" cy=\"-146.08\" rx=\"19.5\" ry=\"19.5\"/>\n<text text-anchor=\"middle\" x=\"84.57\" y=\"-142.38\" font-family=\"Times New Roman,serif\" font-size=\"14.00\">16</text>\n</g>\n<!-- 39&#45;&gt;16 -->\n<g id=\"edge1\" class=\"edge\">\n<title>39&#45;&gt;16</title>\n<path fill=\"none\" stroke=\"black\" d=\"M36.26,-175.2C43.19,-171.02 51.37,-166.09 59.02,-161.48\"/>\n<polygon fill=\"black\" stroke=\"black\" points=\"60.89,-164.44 67.64,-156.28 57.27,-158.45 60.89,-164.44\"/>\n<text text-anchor=\"middle\" x=\"58.14\" y=\"-170.94\" font-family=\"Times New Roman,serif\" font-size=\"8.00\">30.32</text>\n</g>\n<!-- 21 -->\n<g id=\"node2\" class=\"node\">\n<title>21</title>\n<ellipse fill=\"none\" stroke=\"black\" cx=\"209.79\" cy=\"-95.35\" rx=\"19.5\" ry=\"19.5\"/>\n<text text-anchor=\"middle\" x=\"209.79\" y=\"-91.65\" font-family=\"Times New Roman,serif\" font-size=\"14.00\">21</text>\n</g>\n<!-- 24 -->\n<g id=\"node8\" class=\"node\">\n<title>24</title>\n<ellipse fill=\"none\" stroke=\"black\" cx=\"193.66\" cy=\"-19.5\" rx=\"19.5\" ry=\"19.5\"/>\n<text text-anchor=\"middle\" x=\"193.66\" y=\"-15.8\" font-family=\"Times New Roman,serif\" font-size=\"14.00\">24</text>\n</g>\n<!-- 21&#45;&gt;24 -->\n<g id=\"edge2\" class=\"edge\">\n<title>21&#45;&gt;24</title>\n<path fill=\"none\" stroke=\"black\" d=\"M205.72,-76.21C203.94,-67.85 201.82,-57.87 199.86,-48.63\"/>\n<polygon fill=\"black\" stroke=\"black\" points=\"203.23,-47.69 197.73,-38.63 196.39,-49.14 203.23,-47.69\"/>\n<text text-anchor=\"middle\" x=\"192.29\" y=\"-65.02\" font-family=\"Times New Roman,serif\" font-size=\"8.00\">15.93</text>\n</g>\n<!-- 3 -->\n<g id=\"node3\" class=\"node\">\n<title>3</title>\n<ellipse fill=\"none\" stroke=\"black\" cx=\"167.13\" cy=\"-166.3\" rx=\"18\" ry=\"18\"/>\n<text text-anchor=\"middle\" x=\"167.13\" y=\"-162.6\" font-family=\"Times New Roman,serif\" font-size=\"14.00\">3</text>\n</g>\n<!-- 3&#45;&gt;21 -->\n<g id=\"edge4\" class=\"edge\">\n<title>3&#45;&gt;21</title>\n<path fill=\"none\" stroke=\"black\" d=\"M176.6,-150.56C181.82,-141.87 188.44,-130.86 194.39,-120.97\"/>\n<polygon fill=\"black\" stroke=\"black\" points=\"197.45,-122.66 199.6,-112.29 191.45,-119.06 197.45,-122.66\"/>\n<text text-anchor=\"middle\" x=\"174.99\" y=\"-138.36\" font-family=\"Times New Roman,serif\" font-size=\"8.00\">46.86</text>\n</g>\n<!-- 3&#45;&gt;16 -->\n<g id=\"edge5\" class=\"edge\">\n<title>3&#45;&gt;16</title>\n<path fill=\"none\" stroke=\"black\" d=\"M149.62,-162.01C139.22,-159.47 125.77,-156.17 113.81,-153.24\"/>\n<polygon fill=\"black\" stroke=\"black\" points=\"114.33,-149.77 103.78,-150.79 112.66,-156.57 114.33,-149.77\"/>\n<text text-anchor=\"middle\" x=\"121.21\" y=\"-160.23\" font-family=\"Times New Roman,serif\" font-size=\"8.00\">34.86</text>\n</g>\n<!-- 18 -->\n<g id=\"node9\" class=\"node\">\n<title>18</title>\n<ellipse fill=\"none\" stroke=\"black\" cx=\"250.82\" cy=\"-180.84\" rx=\"19.5\" ry=\"19.5\"/>\n<text text-anchor=\"middle\" x=\"250.82\" y=\"-177.14\" font-family=\"Times New Roman,serif\" font-size=\"14.00\">18</text>\n</g>\n<!-- 3&#45;&gt;18 -->\n<g id=\"edge3\" class=\"edge\">\n<title>3&#45;&gt;18</title>\n<path fill=\"none\" stroke=\"black\" d=\"M184.88,-169.38C195.42,-171.22 209.05,-173.58 221.18,-175.69\"/>\n<polygon fill=\"black\" stroke=\"black\" points=\"220.89,-179.19 231.34,-177.45 222.09,-172.29 220.89,-179.19\"/>\n<text text-anchor=\"middle\" x=\"213.53\" y=\"-175.14\" font-family=\"Times New Roman,serif\" font-size=\"8.00\">30.95</text>\n</g>\n<!-- 20 -->\n<g id=\"node4\" class=\"node\">\n<title>20</title>\n<ellipse fill=\"none\" stroke=\"black\" cx=\"184.48\" cy=\"-328.47\" rx=\"19.5\" ry=\"19.5\"/>\n<text text-anchor=\"middle\" x=\"184.48\" y=\"-324.77\" font-family=\"Times New Roman,serif\" font-size=\"14.00\">20</text>\n</g>\n<!-- 38 -->\n<g id=\"node6\" class=\"node\">\n<title>38</title>\n<ellipse fill=\"none\" stroke=\"black\" cx=\"328.91\" cy=\"-185.96\" rx=\"19.5\" ry=\"19.5\"/>\n<text text-anchor=\"middle\" x=\"328.91\" y=\"-182.26\" font-family=\"Times New Roman,serif\" font-size=\"14.00\">38</text>\n</g>\n<!-- 49 -->\n<g id=\"node7\" class=\"node\">\n<title>49</title>\n<ellipse fill=\"none\" stroke=\"black\" cx=\"94.92\" cy=\"-206.23\" rx=\"19.5\" ry=\"19.5\"/>\n<text text-anchor=\"middle\" x=\"94.92\" y=\"-202.53\" font-family=\"Times New Roman,serif\" font-size=\"14.00\">49</text>\n</g>\n<!-- 49&#45;&gt;39 -->\n<g id=\"edge7\" class=\"edge\">\n<title>49&#45;&gt;39</title>\n<path fill=\"none\" stroke=\"black\" d=\"M75.89,-200.95C67.49,-198.62 57.44,-195.83 48.17,-193.25\"/>\n<polygon fill=\"black\" stroke=\"black\" points=\"49.1,-189.88 38.53,-190.58 47.23,-196.63 49.1,-189.88\"/>\n<text text-anchor=\"middle\" x=\"51.53\" y=\"-199.7\" font-family=\"Times New Roman,serif\" font-size=\"8.00\">44.37</text>\n</g>\n<!-- 49&#45;&gt;3 -->\n<g id=\"edge6\" class=\"edge\">\n<title>49&#45;&gt;3</title>\n<path fill=\"none\" stroke=\"black\" d=\"M112.03,-196.77C121.01,-191.8 132.17,-185.63 142.1,-180.14\"/>\n<polygon fill=\"black\" stroke=\"black\" points=\"144.07,-183.05 151.13,-175.15 140.68,-176.93 144.07,-183.05\"/>\n<text text-anchor=\"middle\" x=\"135.07\" y=\"-191.05\" font-family=\"Times New Roman,serif\" font-size=\"8.00\">32.4</text>\n</g>\n<!-- 31 -->\n<g id=\"node11\" class=\"node\">\n<title>31</title>\n<ellipse fill=\"none\" stroke=\"black\" cx=\"151.03\" cy=\"-83.03\" rx=\"19.5\" ry=\"19.5\"/>\n<text text-anchor=\"middle\" x=\"151.03\" y=\"-79.33\" font-family=\"Times New Roman,serif\" font-size=\"14.00\">31</text>\n</g>\n<!-- 24&#45;&gt;31 -->\n<g id=\"edge8\" class=\"edge\">\n<title>24&#45;&gt;31</title>\n<path fill=\"none\" stroke=\"black\" d=\"M182.68,-35.86C178.14,-42.62 172.78,-50.62 167.77,-58.09\"/>\n<polygon fill=\"black\" stroke=\"black\" points=\"164.78,-56.25 162.12,-66.5 170.6,-60.15 164.78,-56.25\"/>\n<text text-anchor=\"middle\" x=\"164.72\" y=\"-49.57\" font-family=\"Times New Roman,serif\" font-size=\"8.00\">46.88</text>\n</g>\n<!-- 18&#45;&gt;38 -->\n<g id=\"edge9\" class=\"edge\">\n<title>18&#45;&gt;38</title>\n<path fill=\"none\" stroke=\"black\" d=\"M270.53,-182.13C279.22,-182.7 289.62,-183.38 299.22,-184.01\"/>\n<polygon fill=\"black\" stroke=\"black\" points=\"299,-187.51 309.21,-184.67 299.46,-180.52 299,-187.51\"/>\n<text text-anchor=\"middle\" x=\"292.88\" y=\"-185.67\" font-family=\"Times New Roman,serif\" font-size=\"8.00\">4.43</text>\n</g>\n<!-- 22 -->\n<g id=\"node10\" class=\"node\">\n<title>22</title>\n<ellipse fill=\"none\" stroke=\"black\" cx=\"179.81\" cy=\"-250.25\" rx=\"19.5\" ry=\"19.5\"/>\n<text text-anchor=\"middle\" x=\"179.81\" y=\"-246.55\" font-family=\"Times New Roman,serif\" font-size=\"14.00\">22</text>\n</g>\n<!-- 22&#45;&gt;3 -->\n<g id=\"edge10\" class=\"edge\">\n<title>22&#45;&gt;3</title>\n<path fill=\"none\" stroke=\"black\" d=\"M176.87,-230.78C175.23,-219.92 173.15,-206.2 171.34,-194.21\"/>\n<polygon fill=\"black\" stroke=\"black\" points=\"174.79,-193.6 169.84,-184.24 167.87,-194.65 174.79,-193.6\"/>\n<text text-anchor=\"middle\" x=\"163.61\" y=\"-215.1\" font-family=\"Times New Roman,serif\" font-size=\"8.00\">35.15</text>\n</g>\n<!-- 22&#45;&gt;20 -->\n<g id=\"edge11\" class=\"edge\">\n<title>22&#45;&gt;20</title>\n<path fill=\"none\" stroke=\"black\" d=\"M180.99,-269.99C181.51,-278.7 182.13,-289.12 182.71,-298.74\"/>\n<polygon fill=\"black\" stroke=\"black\" points=\"179.21,-298.97 183.3,-308.74 186.2,-298.55 179.21,-298.97\"/>\n<text text-anchor=\"middle\" x=\"171.35\" y=\"-286.97\" font-family=\"Times New Roman,serif\" font-size=\"8.00\">40.66</text>\n</g>\n<!-- 31&#45;&gt;3 -->\n<g id=\"edge12\" class=\"edge\">\n<title>31&#45;&gt;3</title>\n<path fill=\"none\" stroke=\"black\" d=\"M154.76,-102.34C156.84,-113.12 159.48,-126.73 161.78,-138.62\"/>\n<polygon fill=\"black\" stroke=\"black\" points=\"158.35,-139.36 163.69,-148.52 165.23,-138.03 158.35,-139.36\"/>\n<text text-anchor=\"middle\" x=\"147.77\" y=\"-123.08\" font-family=\"Times New Roman,serif\" font-size=\"8.00\">18.08</text>\n</g>\n</g>\n</svg>\n",
      "text/plain": [
       "<graphviz.graphs.Digraph at 0x2711a490dc0>"
      ]
     },
     "metadata": {},
     "output_type": "display_data"
    }
   ],
   "source": [
    "displayGraph(estructura, 4, True, nodosX=list(), edgesX=list())"
   ]
  },
  {
   "cell_type": "code",
   "execution_count": 106,
   "metadata": {},
   "outputs": [
    {
     "name": "stdout",
     "output_type": "stream",
     "text": [
      "[{'node': '39', 'cost': 'inf', 'path': []}, {'node': '21', 'cost': 46.86, 'path': [('3', '21')]}, {'node': '3', 'cost': 0.0, 'path': []}, {'node': '20', 'cost': 'inf', 'path': []}, {'node': '16', 'cost': 34.86, 'path': [('3', '16')]}, {'node': '38', 'cost': 35.379999999999995, 'path': [('18', '38'), ('3', '18')]}, {'node': '49', 'cost': 'inf', 'path': []}, {'node': '24', 'cost': 62.79, 'path': [('21', '24'), ('3', '21')]}, {'node': '18', 'cost': 30.95, 'path': [('3', '18')]}, {'node': '22', 'cost': 'inf', 'path': []}, {'node': '31', 'cost': 109.67, 'path': [('24', '31'), ('21', '24'), ('3', '21')]}]\n",
      "39 inf []\n",
      "21 46.86 [('3', '21')]\n",
      "3 0.0 []\n",
      "20 inf []\n",
      "16 34.86 [('3', '16')]\n",
      "38 35.379999999999995 [('18', '38'), ('3', '18')]\n",
      "49 inf []\n",
      "24 62.79 [('21', '24'), ('3', '21')]\n",
      "18 30.95 [('3', '18')]\n",
      "22 inf []\n",
      "31 109.67 [('24', '31'), ('21', '24'), ('3', '21')]\n"
     ]
    }
   ],
   "source": [
    "# retorna una lista de diccionarios\n",
    "# cada diccionario tiene: 'node', 'cost', 'path' \n",
    "nodoOrigen = 3\n",
    "bellman = estructura.algorithms('BellmanFord', nodoOrigen)\n",
    "print(bellman)\n",
    "for rta in bellman:\n",
    "    print(rta['node'], rta['cost'], rta['path'])"
   ]
  },
  {
   "cell_type": "code",
   "execution_count": 107,
   "metadata": {},
   "outputs": [
    {
     "name": "stdout",
     "output_type": "stream",
     "text": [
      "['21', '3', '16', '38', '24', '18', '31']\n"
     ]
    }
   ],
   "source": [
    "# retorna una lista con todos los nodos a los que se puede llegar desde el nodo origen\n",
    "bfsRta = estructura.algorithms('BreadhtFirstSearch','3')\n",
    "print(bfsRta)"
   ]
  },
  {
   "cell_type": "code",
   "execution_count": 108,
   "metadata": {},
   "outputs": [
    {
     "name": "stdout",
     "output_type": "stream",
     "text": [
      "['21', '3', '16', '38', '24', '18', '31']\n"
     ]
    }
   ],
   "source": [
    "# retorna una lista con todos los nodos a los que se puede llegar desde el nodo origen\n",
    "dfsRta = estructura.algorithms('DepthFirstSearch','3')\n",
    "print(dfsRta)"
   ]
  },
  {
   "cell_type": "markdown",
   "metadata": {},
   "source": [
    "* Depth-first search (DFS) is an algorithm for traversing or searching a graph. It starts at a given vertex and explores all the vertices that are reachable from it, in a depth-first manner.\n",
    "* Breadth-first search (BFS) is an algorithm for traversing or searching a graph. It starts at a given vertex and explores all the vertices that are reachable from it, in a breadth-first manner.\n",
    "* The depth-first order of a directed graph is a linear ordering of the vertices of the graph such that for every edge (u, v) from vertex u to vertex v, v appears after u in the ordering. In other words, the depth-first order of a directed graph is a list of the vertices of the graph such that for every edge (u, v) in the graph, the position of v in the list is greater than the position of u.\n",
    "\n",
    "The main differences between these three algorithms are:\n",
    "\n",
    "* DFS and BFS are algorithms for traversing or searching a graph, while the depth-first order is a linear ordering of the vertices of a graph.\n",
    "* DFS and BFS differ in the order in which they visit the vertices of a graph. DFS visits the vertices in a depth-first manner, while BFS visits the vertices in a breadth-first manner.\n",
    "* The depth-first order of a graph is determined by the order in which the vertices are visited by a DFS algorithm. It is not directly related to the traversal order of BFS."
   ]
  },
  {
   "cell_type": "code",
   "execution_count": 109,
   "metadata": {},
   "outputs": [],
   "source": [
    "'''\n",
    "Retorna una lista de nodos\n",
    "Lista de vertices en el orden de DFS\n",
    "'''#\n",
    "DepthFirstSearch = ['31', '21', '24', '3', '18', '16', '38']\n",
    "\n",
    "'''\n",
    "Retorna una lista de nodos\n",
    "Lista de vertices en el orden de BFS\n",
    "'''#\n",
    "BreadhtFirstSearch = ['31', '21', '24', '3', '18', '16', '38']\n",
    "\n",
    "'''\n",
    "Retorna una lista de nodos\n",
    "Lista de vertices en el orden de DFO\n",
    "'''#\n",
    "DepthFirstOrder = ['49', '39', '22', '20', '31', '3', '16', '21', '24', '18', '38']\n",
    "\n",
    "'''\n",
    "Retorna dos valores: mst, weight\n",
    "        * mst: lista de edges (origen, destino)\n",
    "        * weight: costo total del MST\n",
    "El conjunto de edges conforman el MST (minimum spanning tree)\n",
    "'''\n",
    "PrimMST = [('3', '21'), ('21', '24'), ('31', '3'), ('3', '18'), ('3', '16'), ('18', '38')]\n",
    "        # 151.11\n",
    "\n",
    "'''\n",
    "Retorna un diccionario.\n",
    "Cada llave corresponde a una componente fuertemente conectada,\n",
    "los valores asociados a cada llave (valor) es una lista con los nodos que hacen parte de dicha componente conectada\n",
    "'''#        \n",
    "KosarajuSCC = {6: ['31', '21', '3', '24'], 4: ['18'], 7: ['22'], 2: ['20'], 1: ['16'], 3: ['38'], 5: ['39'], 8: ['49']}\n",
    "\n",
    "'''\n",
    "Retorna una lista de diccionarios.\n",
    "Cada diccionario tiene 3 keys: node, cost, path\n",
    "        * node: nodo\n",
    "        * costo: costo de ir del nodo origen al nodo especificado (solo estan los nodos a los cuales hay camino)\n",
    "        * path: lista de edges (origen, destino)\n",
    "'''#\n",
    "Dijkstra = [{'node': '21', 'path': [('3', '21')], 'cost': 46.86},\n",
    "            {'node': '3', 'path': [], 'cost': 0},\n",
    "            {'node': '16', 'path': [('3', '16')], 'cost': 34.86},\n",
    "            {'node': '38', 'path': [('3', '18'), ('18', '38')], 'cost': 35.379999999999995},\n",
    "            {'node': '24', 'path': [('3', '21'), ('21', '24')], 'cost': 62.79},\n",
    "            {'node': '18', 'path': [('3', '18')], 'cost': 30.95},\n",
    "            {'node': '31', 'path': [('3', '21'), ('21', '24'), ('24', '31')], 'cost': 109.67}]\n",
    "\n",
    "'''\n",
    "Retorna una lista de edges (origen, destino) que corresponde a un ciclo\n",
    "Si hay mas de un ciclo en el grafo, solo se retorna uno\n",
    "'''#\n",
    "DirectedCycle = [('31', '3'), ('3', '21'), ('21', '24'), ('24', '31')]\n",
    "\n",
    "'''\n",
    "Retorna una lista de diccionarios.\n",
    "Cada diccionario tiene 3 keys: node, cost, path\n",
    "        * node: nodo\n",
    "        * costo: costo de ir del nodo origen al nodo especificado (si no hay camino, el costo es 'inf')\n",
    "        * path: lista de edges (origen, destino)\n",
    "'''#\n",
    "BellmanFord = [{'node': '38', 'cost': 35.379999999999995, 'path': [('18', '38'), ('3', '18')]}, \n",
    "               {'node': '20', 'cost': 'inf', 'path': []}, \n",
    "               {'node': '16', 'cost': 34.86, 'path': [('3', '16')]}, \n",
    "               {'node': '21', 'cost': 46.86, 'path': [('3', '21')]}, \n",
    "               {'node': '3', 'cost': 0.0, 'path': []}, \n",
    "               {'node': '24', 'cost': 62.79, 'path': [('21', '24'), ('3', '21')]}, \n",
    "               {'node': '31', 'cost': 109.67, 'path': [('24', '31'), ('21', '24'), ('3', '21')]}, \n",
    "               {'node': '22', 'cost': 'inf', 'path': []}, {'node': '49', 'cost': 'inf', 'path': []}, \n",
    "               {'node': '18', 'cost': 30.95, 'path': [('3', '18')]}, \n",
    "               {'node': '39', 'cost': 'inf', 'path': []}]"
   ]
  },
  {
   "cell_type": "code",
   "execution_count": 3,
   "metadata": {},
   "outputs": [
    {
     "name": "stdout",
     "output_type": "stream",
     "text": [
      "['31', '3', '21', '24']\n"
     ]
    }
   ],
   "source": [
    "Dijkstra = [{'node': '21', 'path': [('3', '21')], 'cost': 46.86},\n",
    "            {'node': '3', 'path': [], 'cost': 0},\n",
    "            {'node': '16', 'path': [('3', '16')], 'cost': 34.86},\n",
    "            {'node': '38', 'path': [('3', '18'), ('18', '38')], 'cost': 35.379999999999995},\n",
    "            {'node': '24', 'path': [('3', '21'), ('21', '24')], 'cost': 62.79},\n",
    "            {'node': '18', 'path': [('3', '18')], 'cost': 30.95},\n",
    "            {'node': '31', 'path': [('3', '21'), ('21', '24'), ('24', '31')], 'cost': 109.67}]\n"
   ]
  }
 ],
 "metadata": {
  "kernelspec": {
   "display_name": "Python 3.9.12 64-bit",
   "language": "python",
   "name": "python3"
  },
  "language_info": {
   "codemirror_mode": {
    "name": "ipython",
    "version": 3
   },
   "file_extension": ".py",
   "mimetype": "text/x-python",
   "name": "python",
   "nbconvert_exporter": "python",
   "pygments_lexer": "ipython3",
   "version": "3.9.12"
  },
  "orig_nbformat": 4,
  "vscode": {
   "interpreter": {
    "hash": "8a803d61fb48b7136249db5db6f3a8557188aad2689092bd17fd97632f2b0735"
   }
  }
 },
 "nbformat": 4,
 "nbformat_minor": 2
}
