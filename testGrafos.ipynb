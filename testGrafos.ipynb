{
 "cells": [
  {
   "cell_type": "markdown",
   "metadata": {},
   "source": [
    "## Prueba Grafos"
   ]
  },
  {
   "cell_type": "code",
   "execution_count": 146,
   "metadata": {},
   "outputs": [],
   "source": [
    "from DISClib.ADT import graph as g\n",
    "from DISClib.ADT import list as lt\n",
    "from DISClib.DataStructures import edge as e\n",
    "\n",
    "class grafo:\n",
    "    def __init__(self, type='Undirected'):               # done\n",
    "        if type == 'Directed':\n",
    "            self.estructura = g.newGraph(size=10, directed=True)\n",
    "        else:\n",
    "            self.estructura = g.newGraph(size=10)\n",
    "\n",
    "    def addNode_byValue(self, infoNodo):    #done\n",
    "        infoNodo = str(infoNodo)\n",
    "        self.estructura = g.insertVertex(self.estructura, infoNodo)\n",
    "\n",
    "    def addEdge_byValue(self, infoNodo_1, infoNodo_2, weight=0): #done\n",
    "        infoNodo_1 = str(infoNodo_1)\n",
    "        infoNodo_2 = str(infoNodo_2)\n",
    "        self.estructura = g.addEdge(self.estructura, infoNodo_1, infoNodo_2, weight)\n",
    "\n",
    "    def deleteNode_byValue(self, infoNodo): #done\n",
    "        infoNodo = str(infoNodo)\n",
    "        self.estructura = g.removeVertex(self.estructura, infoNodo)\n",
    "\n",
    "    def deleteEdge_byValue(self, infoNodo_1, infoNodo_2):\n",
    "        #TODO\n",
    "        pass\n",
    "\n",
    "    def getEdgeValues(self):                #done\n",
    "        lst = list()\n",
    "        iter = lt.iterator(g.edges(self.estructura))\n",
    "        aux = ()\n",
    "        for i in iter:\n",
    "            aux = (i['vertexA'],i['vertexB'],i['weight'])\n",
    "            lst.append(aux)\n",
    "        return lst            \n",
    "    \n",
    "    def getNodeValues(self):                #done\n",
    "        lst = list()\n",
    "        iter = lt.iterator(g.vertices(self.estructura))\n",
    "        for i in iter:\n",
    "            lst.append(i)\n",
    "        return lst\n",
    "\n",
    "    def isNodeValue(self, infoNodo):        #done\n",
    "        infoNodo = str(infoNodo)\n",
    "        return g.containsVertex(self.estructura, infoNodo)\n",
    "\n",
    "    def findAdjacentNode(self, infoNodo):   #done\n",
    "        infoNodo = str(infoNodo)\n",
    "        lst = list()\n",
    "        iter = lt.iterator(g.adjacents(self.estructura, infoNodo))\n",
    "        for i in iter:\n",
    "            lst.append(i)\n",
    "        return lst"
   ]
  },
  {
   "cell_type": "code",
   "execution_count": null,
   "metadata": {},
   "outputs": [],
   "source": [
    "import random\n",
    "def create_n_randomEdges(nodos):\n",
    "    edges = list()\n",
    "    for i in range(len(nodos)):\n",
    "        a = random.choice(nodos)\n",
    "        b = random.choice(nodos)\n",
    "        while a == b:\n",
    "            b = random.choice(nodos)\n",
    "        if (a,b) not in edges:\n",
    "            num = random.random() + random.randint(1,50)\n",
    "            edges.append((a,b,num))\n",
    "    return edges\n",
    "\n",
    "def create_n_random(n, string=False):\n",
    "    nodos = list()\n",
    "    for i in range(n*n):\n",
    "        num = random.randint(1,50)\n",
    "        if num not in nodos:\n",
    "            if string:\n",
    "                nodos.append(str(num))\n",
    "            else:  \n",
    "                nodos.append(num)\n",
    "        if len(nodos) == n:\n",
    "            break\n",
    "    return nodos \n",
    "\n",
    "estructura = grafo()\n",
    "long = random.randint(10,15)\n",
    "nodos = create_n_random(long,string=True)\n",
    "edges = create_n_randomEdges(nodos)\n",
    "for i in nodos:\n",
    "    try:\n",
    "        estructura.addNode_byValue(str(i))\n",
    "    except:\n",
    "        e = '\\tProblema al añadir el elemento \"'+str(i)+'\", método addNode_byValue()'\n",
    "        raise Exception(e)\n",
    "for i,j,k in edges:\n",
    "    print(i,j,k)\n",
    "    try:\n",
    "        estructura.addEdge_byValue(i,j,k)\n",
    "        print(estructura.getEdgeValues())\n",
    "    except:\n",
    "        e = '\\tProblema al añadir el arco \"('+i+ '->'+ j + ')\", método addEdge_byValue()'\n",
    "        raise Exception(e)"
   ]
  },
  {
   "cell_type": "code",
   "execution_count": 148,
   "metadata": {},
   "outputs": [
    {
     "data": {
      "text/plain": [
       "[('15', '3', 13.195508829513724),\n",
       " ('15', '28', 4.399481614144147),\n",
       " ('15', '4', 17.126398583910014),\n",
       " ('8', '1', 9.45688336466364),\n",
       " ('8', '24', 35.36494366637394),\n",
       " ('8', '38', 38.41068784682955),\n",
       " ('24', '8', 35.36494366637394),\n",
       " ('3', '15', 13.195508829513724),\n",
       " ('3', '4', 30.516261305021423),\n",
       " ('3', '25', 13.356231929080693),\n",
       " ('34', '18', 3.20859749614396),\n",
       " ('18', '34', 3.20859749614396),\n",
       " ('38', '8', 38.41068784682955),\n",
       " ('38', '25', 29.879884184568933),\n",
       " ('4', '3', 30.516261305021423),\n",
       " ('4', '15', 17.126398583910014),\n",
       " ('1', '8', 9.45688336466364),\n",
       " ('1', '25', 8.464807058321805),\n",
       " ('28', '15', 4.399481614144147),\n",
       " ('28', '2', 2.1718763811707076),\n",
       " ('2', '25', 30.924668320192115),\n",
       " ('2', '28', 2.1718763811707076),\n",
       " ('2', '19', 36.51186962635531),\n",
       " ('19', '2', 36.51186962635531),\n",
       " ('25', '2', 30.924668320192115),\n",
       " ('25', '3', 13.356231929080693),\n",
       " ('25', '1', 8.464807058321805),\n",
       " ('25', '38', 29.879884184568933)]"
      ]
     },
     "execution_count": 148,
     "metadata": {},
     "output_type": "execute_result"
    }
   ],
   "source": [
    "estructura.getEdgeValues()"
   ]
  },
  {
   "cell_type": "code",
   "execution_count": 160,
   "metadata": {},
   "outputs": [],
   "source": [
    "estructura.addEdge_byValue(1,4,0)"
   ]
  },
  {
   "cell_type": "code",
   "execution_count": 139,
   "metadata": {},
   "outputs": [
    {
     "data": {
      "text/plain": [
       "[(2, 1, 1), (20, 1, 1), (1, 2, 1), (1, 20, 1)]"
      ]
     },
     "execution_count": 139,
     "metadata": {},
     "output_type": "execute_result"
    }
   ],
   "source": [
    "estructura = grafo()\n",
    "estructura.addNode_byValue(1)\n",
    "estructura.addNode_byValue(2)\n",
    "estructura.addNode_byValue(20)\n",
    "\n",
    "estructura.addEdge_byValue(1,2,1)\n",
    "estructura.addEdge_byValue(1,2,1)\n",
    "estructura.addEdge_byValue(1,20,1)\n",
    "estructura.addEdge_byValue(1,20,1)\n",
    "estructura.addEdge_byValue(1,2,1)\n",
    "estructura.addEdge_byValue(1,2,1)\n",
    "estructura.addEdge_byValue(20,1,1)\n",
    "estructura.getEdgeValues()"
   ]
  }
 ],
 "metadata": {
  "kernelspec": {
   "display_name": "Python 3.9.12 64-bit",
   "language": "python",
   "name": "python3"
  },
  "language_info": {
   "codemirror_mode": {
    "name": "ipython",
    "version": 3
   },
   "file_extension": ".py",
   "mimetype": "text/x-python",
   "name": "python",
   "nbconvert_exporter": "python",
   "pygments_lexer": "ipython3",
   "version": "3.9.12"
  },
  "orig_nbformat": 4,
  "vscode": {
   "interpreter": {
    "hash": "8a803d61fb48b7136249db5db6f3a8557188aad2689092bd17fd97632f2b0735"
   }
  }
 },
 "nbformat": 4,
 "nbformat_minor": 2
}
