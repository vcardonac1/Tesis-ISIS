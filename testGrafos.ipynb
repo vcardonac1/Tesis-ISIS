{
 "cells": [
  {
   "cell_type": "markdown",
   "metadata": {},
   "source": [
    "## Prueba Grafos"
   ]
  },
  {
   "cell_type": "code",
   "execution_count": 79,
   "metadata": {},
   "outputs": [],
   "source": [
    "from DISClib.ADT import graph as g\n",
    "from DISClib.ADT import list as lt\n",
    "from DISClib.DataStructures import edge as e\n",
    "from DISClib.ADT import stack\n",
    "from DISClib.Algorithms.Graphs import bellmanford as bf\n",
    "from DISClib.Algorithms.Graphs import bfs\n",
    "from DISClib.Algorithms.Graphs import cycles as c\n",
    "\n",
    "class grafo:\n",
    "    def __init__(self, type='Undirected'):               # done\n",
    "        if type == 'Directed':\n",
    "            self.estructura = g.newGraph(size=10, directed=True)\n",
    "        else:\n",
    "            self.estructura = g.newGraph(size=10)\n",
    "\n",
    "    def addNode_byValue(self, infoNodo):    #done\n",
    "        infoNodo = str(infoNodo)\n",
    "        self.estructura = g.insertVertex(self.estructura, infoNodo)\n",
    "\n",
    "    def addEdge_byValue(self, infoNodo_1, infoNodo_2, weight=0): #done\n",
    "        infoNodo_1 = str(infoNodo_1)\n",
    "        infoNodo_2 = str(infoNodo_2)\n",
    "        self.estructura = g.addEdge(self.estructura, infoNodo_1, infoNodo_2, weight)\n",
    "\n",
    "    def deleteNode_byValue(self, infoNodo): #done\n",
    "        infoNodo = str(infoNodo)\n",
    "        self.estructura = g.removeVertex(self.estructura, infoNodo)\n",
    "\n",
    "    def deleteEdge_byValue(self, infoNodo_1, infoNodo_2):\n",
    "        #TODO\n",
    "        pass\n",
    "\n",
    "    def getEdgeValues(self):                #done\n",
    "        lst = list()\n",
    "        iter = lt.iterator(g.edges(self.estructura))\n",
    "        aux = ()\n",
    "        for i in iter:\n",
    "            aux = (i['vertexA'],i['vertexB'],i['weight'])\n",
    "            lst.append(aux)\n",
    "        return lst            \n",
    "    \n",
    "    def getNodeValues(self):                #done\n",
    "        lst = list()\n",
    "        iter = lt.iterator(g.vertices(self.estructura))\n",
    "        for i in iter:\n",
    "            lst.append(i)\n",
    "        return lst\n",
    "\n",
    "    def isNodeValue(self, infoNodo):        #done\n",
    "        infoNodo = str(infoNodo)\n",
    "        return g.containsVertex(self.estructura, infoNodo)\n",
    "\n",
    "    def findAdjacentNode(self, infoNodo):   #done\n",
    "        infoNodo = str(infoNodo)\n",
    "        lst = list()\n",
    "        try:\n",
    "            iter = lt.iterator(g.adjacents(self.estructura, infoNodo))\n",
    "            for i in iter:\n",
    "                lst.append(i)\n",
    "        except:\n",
    "            pass\n",
    "        return lst\n",
    "    \n",
    "    def algorithms(self, algoritmo, infoNodo=None):\n",
    "        table = list()\n",
    "        if algoritmo == 'BellmanFord':\n",
    "            search = bf.BellmanFord(self.estructura, infoNodo)\n",
    "            for i in self.getNodeValues():\n",
    "                costo = bf.distTo(search, i)\n",
    "                path = list()\n",
    "                if bf.hasPathTo(search, i):\n",
    "                    iter = lt.iterator(bf.pathTo(search, i))\n",
    "                    for j in iter:\n",
    "                        path.append((j['vertexA'], j['vertexB']))\n",
    "                table.append((i, costo, path))\n",
    "                \n",
    "        if algoritmo == 'BreadhtFisrtSearch':\n",
    "            search = bfs.BreadhtFisrtSearch(self.estructura, infoNodo)\n",
    "            for i in self.getNodeValues():\n",
    "                path = list()\n",
    "                if bfs.hasPathTo(search, i):\n",
    "                    iter = lt.iterator(bfs.pathTo(search, i))\n",
    "                    for j in iter:\n",
    "                        path.append(j)\n",
    "                table.append((i, None, path))\n",
    "                \n",
    "        if algoritmo == \"DirectedCycle\":\n",
    "            search = c.DirectedCycle(self.estructura)\n",
    "            if c.hasCycle(search):\n",
    "                path = list()\n",
    "                pathRta = c.cycle(search)\n",
    "                while not stack.isEmpty(pathRta):\n",
    "                    edge = stack.pop(pathRta)\n",
    "                    path.append((edge['vertexA'], edge['vertexB'],edge['weight']))\n",
    "                table.append(path)\n",
    "        return table"
   ]
  },
  {
   "cell_type": "code",
   "execution_count": 80,
   "metadata": {},
   "outputs": [],
   "source": [
    "import random\n",
    "def create_n_randomEdges(nodos):\n",
    "    edges = list()\n",
    "    for i in range(len(nodos)):\n",
    "        a = random.choice(nodos)\n",
    "        b = random.choice(nodos)\n",
    "        while a == b:\n",
    "            b = random.choice(nodos)\n",
    "        if (a,b) not in edges:\n",
    "            num = random.random() + random.randint(1,50)\n",
    "            edges.append((a,b,num))\n",
    "    return edges\n",
    "\n",
    "def create_n_random(n, string=False):\n",
    "    nodos = list()\n",
    "    for i in range(n*n):\n",
    "        num = random.randint(1,50)\n",
    "        if num not in nodos:\n",
    "            if string:\n",
    "                nodos.append(str(num))\n",
    "            else:  \n",
    "                nodos.append(num)\n",
    "        if len(nodos) == n:\n",
    "            break\n",
    "    return nodos \n",
    "\n",
    "estructura = grafo()\n",
    "long = random.randint(10,15)\n",
    "nodos = create_n_random(long,string=True)\n",
    "edges = create_n_randomEdges(nodos)\n",
    "for i in nodos:\n",
    "    try:\n",
    "        estructura.addNode_byValue(str(i))\n",
    "    except:\n",
    "        e = '\\tProblema al añadir el elemento \"'+str(i)+'\", método addNode_byValue()'\n",
    "        raise Exception(e)\n",
    "for i,j,k in edges:\n",
    "    try:\n",
    "        estructura.addEdge_byValue(i,j,k)\n",
    "    except:\n",
    "        e = '\\tProblema al añadir el arco \"('+i+ '->'+ j + ')\", método addEdge_byValue()'\n",
    "        raise Exception(e)"
   ]
  },
  {
   "cell_type": "code",
   "execution_count": 81,
   "metadata": {},
   "outputs": [
    {
     "data": {
      "text/plain": [
       "['44', '49', '1', '23', '16', '36', '4', '47', '32', '27', '35', '9', '37']"
      ]
     },
     "execution_count": 81,
     "metadata": {},
     "output_type": "execute_result"
    }
   ],
   "source": [
    "estructura.getNodeValues()"
   ]
  },
  {
   "cell_type": "code",
   "execution_count": 83,
   "metadata": {},
   "outputs": [
    {
     "name": "stdout",
     "output_type": "stream",
     "text": [
      "('44', 0.0, [])\n",
      "('49', inf, [])\n",
      "('1', 22.244826683011475, [('44', '1')])\n",
      "('23', 27.260489333147053, [('27', '23'), ('44', '27')])\n",
      "('16', 31.961879400499356, [('27', '16'), ('44', '27')])\n",
      "('36', 15.30863591183796, [('44', '36')])\n",
      "('4', 38.551907121999, [('27', '4'), ('44', '27')])\n",
      "('47', 33.67831993159018, [('23', '47'), ('27', '23'), ('44', '27')])\n",
      "('32', 35.433464474915795, [('16', '32'), ('27', '16'), ('44', '27')])\n",
      "('27', 24.731712204928204, [('44', '27')])\n",
      "('35', 72.83384410841023, [('1', '35'), ('44', '1')])\n",
      "('9', inf, [])\n",
      "('37', 30.35198375090646, [('44', '37')])\n"
     ]
    }
   ],
   "source": [
    "rta = estructura.algorithms('BellmanFord','44')\n",
    "for i in rta:\n",
    "    print(i)"
   ]
  },
  {
   "cell_type": "code",
   "execution_count": null,
   "metadata": {},
   "outputs": [
    {
     "name": "stdout",
     "output_type": "stream",
     "text": [
      "('23', None, ['23', '30', '10'])\n",
      "('30', None, ['30', '10'])\n",
      "('10', None, ['10'])\n",
      "('17', None, ['17', '30', '10'])\n",
      "('38', None, [])\n",
      "('40', None, ['40', '4', '23', '30', '10'])\n",
      "('2', None, ['2', '23', '30', '10'])\n",
      "('43', None, [])\n",
      "('18', None, ['18', '30', '10'])\n",
      "('32', None, ['32', '17', '30', '10'])\n",
      "('4', None, ['4', '23', '30', '10'])\n",
      "('14', None, [])\n"
     ]
    }
   ],
   "source": [
    "rta = estructura.algorithms('BreadhtFisrtSearch','10')\n",
    "for i in rta:\n",
    "    print(i)"
   ]
  },
  {
   "cell_type": "code",
   "execution_count": null,
   "metadata": {},
   "outputs": [
    {
     "name": "stdout",
     "output_type": "stream",
     "text": [
      "[[('23', '32', 29.36205158489865), ('32', '23', 29.36205158489865)]]\n"
     ]
    }
   ],
   "source": [
    "rta = estructura.algorithms('DirectedCycle')\n",
    "print(rta)"
   ]
  }
 ],
 "metadata": {
  "kernelspec": {
   "display_name": "Python 3.9.12 64-bit",
   "language": "python",
   "name": "python3"
  },
  "language_info": {
   "codemirror_mode": {
    "name": "ipython",
    "version": 3
   },
   "file_extension": ".py",
   "mimetype": "text/x-python",
   "name": "python",
   "nbconvert_exporter": "python",
   "pygments_lexer": "ipython3",
   "version": "3.9.12"
  },
  "orig_nbformat": 4,
  "vscode": {
   "interpreter": {
    "hash": "8a803d61fb48b7136249db5db6f3a8557188aad2689092bd17fd97632f2b0735"
   }
  }
 },
 "nbformat": 4,
 "nbformat_minor": 2
}
