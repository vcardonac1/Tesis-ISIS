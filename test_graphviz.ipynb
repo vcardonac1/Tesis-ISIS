{
 "cells": [
  {
   "cell_type": "code",
   "execution_count": null,
   "metadata": {},
   "outputs": [],
   "source": [
    "from graphviz import Digraph, Graph\n",
    "\n",
    "dot = Digraph()\n",
    "\n",
    "dot.graph_attr = {\n",
    "    'rankdir': 'LR',\n",
    "    'center': 'true',\n",
    "    'size':'14,5',\n",
    "    'ratio':'fill'\n",
    "}\n",
    "\n",
    "dot.node(name='id1', label='label1', shape='square', color='black')\n",
    "dot.node(name='id2', label='label2', shape='circle', color='red')\n",
    "dot.edge('id1', 'id2', label='label', color='blue', fontsize='8.0')\n",
    "display(dot)\n"
   ]
  }
 ],
 "metadata": {
  "kernelspec": {
   "display_name": "Python 3",
   "language": "python",
   "name": "python3"
  },
  "language_info": {
   "codemirror_mode": {
    "name": "ipython",
    "version": 3
   },
   "file_extension": ".py",
   "mimetype": "text/x-python",
   "name": "python",
   "nbconvert_exporter": "python",
   "pygments_lexer": "ipython3",
   "version": "3.9.12 (tags/v3.9.12:b28265d, Mar 23 2022, 23:52:46) [MSC v.1929 64 bit (AMD64)]"
  },
  "orig_nbformat": 4,
  "vscode": {
   "interpreter": {
    "hash": "8a803d61fb48b7136249db5db6f3a8557188aad2689092bd17fd97632f2b0735"
   }
  }
 },
 "nbformat": 4,
 "nbformat_minor": 2
}
